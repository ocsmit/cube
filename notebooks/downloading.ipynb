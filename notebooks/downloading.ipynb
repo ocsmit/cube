{
 "cells": [
  {
   "cell_type": "code",
   "execution_count": 2,
   "id": "fe8aaeda-da9d-4eeb-b548-7a3376ef75ac",
   "metadata": {},
   "outputs": [
    {
     "name": "stdout",
     "output_type": "stream",
     "text": [
      "The autoreload extension is already loaded. To reload it, use:\n",
      "  %reload_ext autoreload\n"
     ]
    }
   ],
   "source": [
    "%load_ext autoreload\n",
    "%autoreload 2\n",
    "import sys\n",
    "sys.path.append(\"../\")\n",
    "import cubed\n",
    "from rich.jupyter import print"
   ]
  },
  {
   "cell_type": "code",
   "execution_count": null,
   "id": "c4ffd0a6-cc1c-42bc-8254-8a5922536a09",
   "metadata": {},
   "outputs": [],
   "source": []
  },
  {
   "cell_type": "code",
   "execution_count": 4,
   "id": "dedca0c6-6ec1-41dd-8c4a-bb5c8d21a236",
   "metadata": {},
   "outputs": [],
   "source": [
    "cl = cubed.generate_client()"
   ]
  },
  {
   "cell_type": "code",
   "execution_count": 5,
   "id": "490adad5-f69a-47e6-9c98-40961980a662",
   "metadata": {},
   "outputs": [
    {
     "name": "stdout",
     "output_type": "stream",
     "text": [
      "<class 'dict'>\n",
      "{'type': 'Polygon', 'coordinates': (((-78.6681604385376, 35.76152279105242), (-78.64738941192627, 35.76152279105242), (-78.64738941192627, 35.77896766857883), (-78.6681604385376, 35.77896766857883), (-78.6681604385376, 35.76152279105242)),)}\n"
     ]
    }
   ],
   "source": [
    "import geopandas as gpd\n",
    "geom = gpd.read_file(\"../test/data/test_poly.geojson\")\n",
    "search = cl.search(collections=\"HLSL30.v2.0\", intersects=geom)"
   ]
  },
  {
   "cell_type": "code",
   "execution_count": 6,
   "id": "5503d78a-959c-4207-9c65-d3daadf228bd",
   "metadata": {},
   "outputs": [
    {
     "data": {
      "text/html": [
       "<pre style=\"white-space:pre;overflow-x:auto;line-height:normal;font-family:Menlo,'DejaVu Sans Mono',consolas,'Courier New',monospace\"><span style=\"font-weight: bold\">&lt;</span><span style=\"color: #ff00ff; text-decoration-color: #ff00ff; font-weight: bold\">pystac_client.item_search.ItemSearch</span><span style=\"color: #000000; text-decoration-color: #000000\"> object at </span><span style=\"color: #008080; text-decoration-color: #008080; font-weight: bold\">0x7fa7a042d5a0</span><span style=\"font-weight: bold\">&gt;</span>\n",
       "</pre>\n"
      ],
      "text/plain": [
       "\u001b[1m<\u001b[0m\u001b[1;95mpystac_client.item_search.ItemSearch\u001b[0m\u001b[39m object at \u001b[0m\u001b[1;36m0x7fa7a042d5a0\u001b[0m\u001b[1m>\u001b[0m\n"
      ]
     },
     "metadata": {},
     "output_type": "display_data"
    }
   ],
   "source": [
    "print(search)"
   ]
  },
  {
   "cell_type": "code",
   "execution_count": 7,
   "id": "21550996-012a-45e5-9de3-6f9996614e23",
   "metadata": {},
   "outputs": [
    {
     "data": {
      "text/plain": [
       "<pystac_client.item_search.ItemSearch at 0x7fa7a042d5a0>"
      ]
     },
     "execution_count": 7,
     "metadata": {},
     "output_type": "execute_result"
    }
   ],
   "source": [
    "search"
   ]
  },
  {
   "cell_type": "code",
   "execution_count": null,
   "id": "4821ba28-952e-409b-ab21-1c38ce0dabae",
   "metadata": {},
   "outputs": [],
   "source": []
  },
  {
   "cell_type": "code",
   "execution_count": 8,
   "id": "63e80cd3-9d04-4221-8dc9-a5664c15ac88",
   "metadata": {},
   "outputs": [
    {
     "data": {
      "text/plain": [
       "352"
      ]
     },
     "execution_count": 8,
     "metadata": {},
     "output_type": "execute_result"
    }
   ],
   "source": [
    "search.matched()"
   ]
  },
  {
   "cell_type": "code",
   "execution_count": 1,
   "id": "74e7e009-5f7b-465b-8760-1dff473b9c4e",
   "metadata": {},
   "outputs": [
    {
     "ename": "NameError",
     "evalue": "name 'cl' is not defined",
     "output_type": "error",
     "traceback": [
      "\u001b[0;31m---------------------------------------------------------------------------\u001b[0m",
      "\u001b[0;31mNameError\u001b[0m                                 Traceback (most recent call last)",
      "Input \u001b[0;32mIn [1]\u001b[0m, in \u001b[0;36m<module>\u001b[0;34m\u001b[0m\n\u001b[0;32m----> 1\u001b[0m \u001b[38;5;28mprint\u001b[39m(\u001b[38;5;28mlist\u001b[39m(\u001b[43mcl\u001b[49m\u001b[38;5;241m.\u001b[39mget_collections()))\n",
      "\u001b[0;31mNameError\u001b[0m: name 'cl' is not defined"
     ]
    }
   ],
   "source": [
    "print(list(cl.get_collections()))"
   ]
  },
  {
   "cell_type": "code",
   "execution_count": null,
   "id": "241b4ab9-44b7-4319-a322-612275529426",
   "metadata": {},
   "outputs": [],
   "source": []
  }
 ],
 "metadata": {
  "kernelspec": {
   "display_name": "Python 3 (ipykernel)",
   "language": "python",
   "name": "python3"
  },
  "language_info": {
   "codemirror_mode": {
    "name": "ipython",
    "version": 3
   },
   "file_extension": ".py",
   "mimetype": "text/x-python",
   "name": "python",
   "nbconvert_exporter": "python",
   "pygments_lexer": "ipython3",
   "version": "3.10.2"
  }
 },
 "nbformat": 4,
 "nbformat_minor": 5
}
